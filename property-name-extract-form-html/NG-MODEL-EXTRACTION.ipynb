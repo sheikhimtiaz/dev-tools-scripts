{
 "cells": [
  {
   "cell_type": "code",
   "execution_count": 14,
   "metadata": {},
   "outputs": [
    {
     "name": "stdout",
     "output_type": "stream",
     "text": [
      "ng-model-options=\"{allowInvalid:\n",
      "ng-model=\"vm.formData.InsuranceSwissLife\"\n",
      "ng-model=\"vm.formData.InsuranceSwissLifeSpecify\"\n",
      "ng-model=\"vm.formData.InsuranceInsurer\"\n",
      "ng-model=\"vm.formData.InsuranceInsurerSpecify\"\n",
      "ng-model=\"vm.formData.SLProvisionGuaranteed\"\n",
      "ng-model=\"vm.formData.SLSLReceiveadditionalBenefit\">\n",
      "ng-model=\"vm.formData.SLAssessProportion\"\n",
      "ng-model=\"vm.formData.SLWithdrawalsType\"\n",
      "ng-model=\"vm.formData.SLWithdrawalsTypePerYear\"\n",
      "ng-model=\"vm.formData.UnderlyingInvestments\"\n",
      "ng-model=\"vm.formData.IsSavings\"\n",
      "ng-model=\"vm.formData.IsAdditionalPension\"\n",
      "ng-model=\"vm.formData.IsSuccessionPlanning\"\n",
      "ng-model=\"vm.formData.IsProtectionAgainst\"\n",
      "ng-model=\"vm.formData.IsOther\"\n",
      "ng-model=\"vm.formData.WhatIsMainOther\"\n",
      "17\n"
     ]
    }
   ],
   "source": [
    "target = \"ng-model\"\n",
    "new = []\n",
    "contains = 0\n",
    "count = 0\n",
    "for line in open(\"targetFile.txt\", encoding=\"utf8\").readlines():\n",
    "    indvStrings = line.split()\n",
    "    for i in indvStrings:\n",
    "        check = i[:8]\n",
    "        if(check == target):\n",
    "            for j in new:\n",
    "                if i == j:\n",
    "                    contains = 1\n",
    "                    continue\n",
    "            if contains == 0 :\n",
    "                # print(new.count(i))\n",
    "                new.append(i)\n",
    "                print(i)\n",
    "                count = count + 1\n",
    "            contains = 0\n",
    "            \n",
    "print(count)\n",
    "            "
   ]
  },
  {
   "cell_type": "code",
   "execution_count": null,
   "metadata": {},
   "outputs": [],
   "source": []
  }
 ],
 "metadata": {
  "kernelspec": {
   "display_name": "Python 3",
   "language": "python",
   "name": "python3"
  },
  "language_info": {
   "codemirror_mode": {
    "name": "ipython",
    "version": 3
   },
   "file_extension": ".py",
   "mimetype": "text/x-python",
   "name": "python",
   "nbconvert_exporter": "python",
   "pygments_lexer": "ipython3",
   "version": "3.6.5"
  }
 },
 "nbformat": 4,
 "nbformat_minor": 2
}
