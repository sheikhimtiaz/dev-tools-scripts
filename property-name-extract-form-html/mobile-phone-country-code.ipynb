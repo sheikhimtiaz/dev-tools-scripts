{
 "cells": [
  {
   "cell_type": "code",
   "execution_count": 1,
   "metadata": {},
   "outputs": [
    {
     "name": "stdout",
     "output_type": "stream",
     "text": [
      "nformationUserForm.DisplayName\"\n",
      "nformationUserForm.Salutation\"\n",
      "nformationUserForm.FirstName\"\n",
      "nformationUserForm.LastName\"\n",
      "nformationUserForm.MobileCountryCode\"\n",
      "nformationUserForm.MobilePhoneNumber\"\n",
      "nformationUserForm.OfficeCountryCode\"\n",
      "nformationUserForm.OfficialPhoneNumber\"\n"
     ]
    }
   ],
   "source": [
    "target = \"ng-model\"\n",
    "new = []\n",
    "contains = 0\n",
    "for line in open(\"account-personal-information-setting.view.txt\").readlines():\n",
    "    indvStrings = line.split()\n",
    "    for i in indvStrings:\n",
    "        check = i[:8]\n",
    "        if(check == target):\n",
    "            for j in new:\n",
    "                if i == j:\n",
    "                    contains = 1\n",
    "                    continue\n",
    "            if contains == 0 :\n",
    "                # print(new.count(i))\n",
    "                new.append(i)\n",
    "                print(i[22:])\n",
    "            contains = 0\n",
    "\n",
    "            "
   ]
  },
  {
   "cell_type": "code",
   "execution_count": null,
   "metadata": {},
   "outputs": [],
   "source": []
  }
 ],
 "metadata": {
  "kernelspec": {
   "display_name": "Python 3",
   "language": "python",
   "name": "python3"
  },
  "language_info": {
   "codemirror_mode": {
    "name": "ipython",
    "version": 3
   },
   "file_extension": ".py",
   "mimetype": "text/x-python",
   "name": "python",
   "nbconvert_exporter": "python",
   "pygments_lexer": "ipython3",
   "version": "3.6.5"
  }
 },
 "nbformat": 4,
 "nbformat_minor": 2
}
