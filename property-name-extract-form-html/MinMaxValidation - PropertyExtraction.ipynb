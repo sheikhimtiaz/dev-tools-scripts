{
 "cells": [
  {
   "cell_type": "code",
   "execution_count": 3,
   "metadata": {},
   "outputs": [
    {
     "name": "stdout",
     "output_type": "stream",
     "text": [
      "SMAStrategySameInvestment\n",
      "SMAInvestmentStrategy\n",
      "SMAInvestmentStrategyRisk\n",
      "SMAInvestmentStrategyBonds\n",
      "SMAInvestmentStrategyBondsMinimum\n",
      "SMAInvestmentStrategyBondsMaximum\n",
      "SMAInvestmentStrategyEquities\n",
      "SMAInvestmentStrategyEquitiesMinimum\n",
      "SMAInvestmentStrategyEquitiesMaximum\n",
      "SMAInvestmentStrategyBondsFunds\n",
      "SMAInvestmentStrategyBondsFundsMinimum\n",
      "SMAInvestmentStrategyBondsFundsMaximum\n",
      "SMAInvestmentStrategyEquityFunds\n",
      "SMAInvestmentStrategyEquityFundsMinimum\n",
      "SMAInvestmentStrategyEquityFundsMaximum\n",
      "SMAInvestmentStrategyMoneyFunds\n",
      "SMAInvestmentStrategyMoneyFundsMinimum\n",
      "SMAInvestmentStrategyMoneyFundsMaximum\n",
      "SMAAlternativeHedgeFunds\n",
      "SMAAlternativeHedgeFundsMinimum\n",
      "SMAAlternativeHedgeFundsMaximum\n",
      "SMAAlternativeCommodityFunds\n",
      "SMAAlternativeCommodityFundsMinimum\n",
      "SMAAlternativeCommodityFundsMaximum\n",
      "SMAAlternativePrivateFunds\n",
      "SMAAlternativePrivateFundsMinimum\n",
      "SMAAlternativePrivateFundsMaximum\n",
      "SMAAlternativeRealEstate\n",
      "SMAAlternativeRealEstateMinimum\n",
      "SMAAlternativeRealEstateMaximum\n",
      "SMAFutures\n",
      "SMACurrentDeposit\n",
      "SMACurrentDepositMinimum\n",
      "SMACurrentDepositMaximum\n",
      "SMAMail\n",
      "SMAFirstPolicyholder\n",
      "SMASecondPolicyholder\n",
      "SMAThirdPolicyholder\n",
      "SMAFourthPolicyholder\n",
      "SMACorrespondence\n",
      "SMAFollowingAddress\n",
      "SMAFollowingAddressInput\n",
      "SMAMailTo\n",
      "SMAMailToInput\n",
      "SMATelephoneTo\n",
      "SMATelephoneToInput\n",
      "SMAFaxOn\n",
      "SMAFaxOnInput\n"
     ]
    }
   ],
   "source": [
    "target = \"ng-model\"\n",
    "new = []\n",
    "contains = 0\n",
    "for line in open(\"minMaxValidation.txt\").readlines():\n",
    "    indvStrings = line.split()\n",
    "    for i in indvStrings:\n",
    "        check = i[:8]\n",
    "        if(check == target):\n",
    "            for j in new:\n",
    "                if i == j:\n",
    "                    contains = 1\n",
    "                    continue\n",
    "            if contains == 0 :\n",
    "                # print(new.count(i))\n",
    "                new.append(i)\n",
    "                print(i[22:-1])\n",
    "            contains = 0\n",
    "\n",
    "            "
   ]
  },
  {
   "cell_type": "code",
   "execution_count": null,
   "metadata": {},
   "outputs": [],
   "source": []
  }
 ],
 "metadata": {
  "kernelspec": {
   "display_name": "Python 3",
   "language": "python",
   "name": "python3"
  },
  "language_info": {
   "codemirror_mode": {
    "name": "ipython",
    "version": 3
   },
   "file_extension": ".py",
   "mimetype": "text/x-python",
   "name": "python",
   "nbconvert_exporter": "python",
   "pygments_lexer": "ipython3",
   "version": "3.6.5"
  }
 },
 "nbformat": 4,
 "nbformat_minor": 2
}
